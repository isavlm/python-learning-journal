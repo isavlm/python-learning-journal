{
  "cells": [
    {
      "cell_type": "markdown",
      "metadata": {
        "id": "view-in-github",
        "colab_type": "text"
      },
      "source": [
        "<a href=\"https://colab.research.google.com/github/isavlm/python-learning-journal/blob/Isadora%2FWeek_2/ISADORA_VASCONCELOS_CIST5A_HW1.ipynb\" target=\"_parent\"><img src=\"https://colab.research.google.com/assets/colab-badge.svg\" alt=\"Open In Colab\"/></a>"
      ]
    },
    {
      "cell_type": "markdown",
      "id": "191a475a",
      "metadata": {
        "id": "191a475a"
      },
      "source": [
        "\n",
        "# Homework: Introduction to Python\n",
        "\n",
        "In this homework assignment, you'll practice what you've learned so far: variables, types, operators, errors, and print statements. Complete each part and submit your notebook when you're done.\n",
        "\n",
        "**Instructions:**\n",
        "- Write your code in the provided cells.\n",
        "- Run each cell to check your results.\n",
        "- Submit your completed notebook by the due date.\n"
      ]
    },
    {
      "cell_type": "markdown",
      "id": "1a66deb5",
      "metadata": {
        "id": "1a66deb5"
      },
      "source": [
        "\n",
        "## Part 1: Variables and Types\n",
        "\n",
        "### Exercise 1\n",
        "Create variables of the following types: `int`, `float`, and `str`. Assign any values you like to them and print each one.\n"
      ]
    },
    {
      "cell_type": "code",
      "source": [
        "student_name = \"Isadora Vasconcelos\"\n",
        "student_id_number = 12345\n",
        "student_gpa = 3.9\n",
        "\n",
        "print(student_name)\n",
        "print(student_id_number)\n",
        "print(student_gpa)\n",
        "\n",
        "print(type(student_name))\n",
        "print(type(student_id_number))\n",
        "print(type(student_gpa))"
      ],
      "metadata": {
        "id": "lyl__MZGvkzb",
        "colab": {
          "base_uri": "https://localhost:8080/"
        },
        "outputId": "10a1878e-67d0-43e1-f962-08420941cde9"
      },
      "id": "lyl__MZGvkzb",
      "execution_count": 6,
      "outputs": [
        {
          "output_type": "stream",
          "name": "stdout",
          "text": [
            "Isadora Vasconcelos\n",
            "12345\n",
            "3.9\n",
            "<class 'str'>\n",
            "<class 'int'>\n",
            "<class 'float'>\n"
          ]
        }
      ]
    },
    {
      "cell_type": "markdown",
      "id": "48c9443a",
      "metadata": {
        "id": "48c9443a"
      },
      "source": [
        "\n",
        "### Exercise 2\n",
        "The following code contains errors. Identify and correct them.\n"
      ]
    },
    {
      "cell_type": "code",
      "source": [
        "\n",
        "# The code below has errors. Fix them.\n",
        "# my_number = \"10\"\n",
        "# my_float = 5.0\n",
        "# result = my_number + my_float\n",
        "# print(\"The result is: \" + result)\n",
        "\n",
        "#you cant concatenate a string and a float.\n",
        "\n",
        "my_number = 10\n",
        "my_float = 5.0\n",
        "result = my_number + my_float\n",
        "print(f\"The result is: {result}\") #you cant concatenate a string and a float. The IDE interprets that \"The result is: \" as a string.\n",
        "#To change that just add a f before the \"\", wrap everything in \"\" and wrap the result in {}"
      ],
      "metadata": {
        "id": "SvF8gutvvnZD",
        "colab": {
          "base_uri": "https://localhost:8080/"
        },
        "outputId": "9127c44d-4119-4c25-97c2-9adcd30a4284"
      },
      "id": "SvF8gutvvnZD",
      "execution_count": 18,
      "outputs": [
        {
          "output_type": "stream",
          "name": "stdout",
          "text": [
            "The result is: 15.0\n"
          ]
        }
      ]
    },
    {
      "cell_type": "markdown",
      "id": "a3c015b6",
      "metadata": {
        "id": "a3c015b6"
      },
      "source": [
        "\n",
        "## Part 2: Operators\n",
        "\n",
        "### Exercise 3\n",
        "Perform the following arithmetic operations and print the results:\n",
        "1. Addition of two numbers.\n",
        "2. Subtraction of one number from another.\n",
        "3. Multiplication of two numbers.\n",
        "4. Division of one number by another.\n"
      ]
    },
    {
      "cell_type": "code",
      "source": [
        "addition = 10 + 1\n",
        "print(addition)\n",
        "\n",
        "subtration = 10 - 1\n",
        "print(subtration)\n",
        "\n",
        "multiplication = 10 * 1\n",
        "print(multiplication)\n",
        "\n",
        "division = 10 / 1\n",
        "print(division)"
      ],
      "metadata": {
        "id": "zamuhw5Nvqzz",
        "colab": {
          "base_uri": "https://localhost:8080/"
        },
        "outputId": "b88ab9dd-3b7e-411a-ee31-15e634d9ccb2"
      },
      "id": "zamuhw5Nvqzz",
      "execution_count": 21,
      "outputs": [
        {
          "output_type": "stream",
          "name": "stdout",
          "text": [
            "11\n",
            "9\n",
            "10\n",
            "10.0\n"
          ]
        }
      ]
    },
    {
      "cell_type": "markdown",
      "id": "f980daed",
      "metadata": {
        "id": "f980daed"
      },
      "source": [
        "\n",
        "### Exercise 4\n",
        "Use comparison and logical operators to evaluate the following expressions and print the results:\n",
        "1. Is 10 greater than 5?\n",
        "2. Is 3 less than or equal to 3?\n",
        "3. Is 7 equal to 8?\n",
        "4. Is 5 greater than 3 and 2 less than 4?\n"
      ]
    },
    {
      "cell_type": "code",
      "source": [
        "# Is 10 greater than 5?\n",
        "print(10 > 5)  # True\n",
        "\n",
        "# Is 3 less than or equal to 3?\n",
        "print(3 <= 3)  # True\n",
        "\n",
        "# Is 7 equal to 8?\n",
        "print(7 == 8)  # False\n",
        "\n",
        "# Is 5 greater than 3 and 2 less than 4?\n",
        "print(5 > 3 and 2 < 4)  # True"
      ],
      "metadata": {
        "id": "XppOrgdkvsek",
        "colab": {
          "base_uri": "https://localhost:8080/"
        },
        "outputId": "78db8d27-e3df-4d2e-a982-e1a769b7cf1e"
      },
      "id": "XppOrgdkvsek",
      "execution_count": 32,
      "outputs": [
        {
          "output_type": "stream",
          "name": "stdout",
          "text": [
            "True\n",
            "True\n",
            "False\n",
            "True\n"
          ]
        }
      ]
    },
    {
      "cell_type": "markdown",
      "id": "2d983229",
      "metadata": {
        "id": "2d983229"
      },
      "source": [
        "\n",
        "## Part 3: Errors and Debugging\n",
        "\n",
        "### Exercise 5\n",
        "The following code contains syntax and runtime errors. Identify and correct them.\n"
      ]
    },
    {
      "cell_type": "code",
      "source": [
        "\n",
        "# The code below has errors. Fix them.\n",
        "# my Variable = \"This is my first string\";\n",
        "# 2remove = \" first\";\n",
        "# final String = my Variable - 2remove;\n",
        "# print(final String);\n",
        "\n",
        "my_variable = \"This is my first string\"\n",
        "to_remove = \" first\"\n",
        "final_string = my_variable.replace(to_remove, \"\")\n",
        "print(final_string)\n",
        "\n",
        "\n",
        "#Variables cannot have spaces or start with a number.\n",
        "#We cannot subtract a string.\n",
        "#Python is not Java or JavaScript that uses ; at the end of a statement - unless we are using multiple statements."
      ],
      "metadata": {
        "id": "j4_bjx1dvuiZ",
        "colab": {
          "base_uri": "https://localhost:8080/"
        },
        "outputId": "21be8d9f-7fe0-4393-9816-b6878f05a5bb"
      },
      "id": "j4_bjx1dvuiZ",
      "execution_count": 37,
      "outputs": [
        {
          "output_type": "stream",
          "name": "stdout",
          "text": [
            "This is my  string\n"
          ]
        }
      ]
    },
    {
      "cell_type": "markdown",
      "id": "d518bb80",
      "metadata": {
        "id": "d518bb80"
      },
      "source": [
        "\n",
        "## Part 4: Print Statements\n",
        "\n",
        "### Exercise 6\n",
        "Use print statements to display the following:\n",
        "1. A string that says \"Hello, World!\"\n",
        "2. A formatted string that includes the values of two variables.\n"
      ]
    },
    {
      "cell_type": "code",
      "source": [
        "statement_1 = \"Hello\"\n",
        "statement_2 = \"World!\"\n",
        "\n",
        "print(f\"{statement_1}, {statement_2}\")"
      ],
      "metadata": {
        "id": "PGuvP7m3w172",
        "colab": {
          "base_uri": "https://localhost:8080/"
        },
        "outputId": "e653a4bb-9a5f-41db-b727-603fd76e7631"
      },
      "id": "PGuvP7m3w172",
      "execution_count": 31,
      "outputs": [
        {
          "output_type": "stream",
          "name": "stdout",
          "text": [
            "Hello, World!\n"
          ]
        }
      ]
    },
    {
      "cell_type": "markdown",
      "id": "c21ec108",
      "metadata": {
        "id": "c21ec108"
      },
      "source": [
        "\n",
        "### Exercise 7\n",
        "Print multiple variables each on their own line using a **single** print statement.\n"
      ]
    },
    {
      "cell_type": "code",
      "source": [
        "student_name = \"Isadora Vasconcelos\"\n",
        "student_id_number = 12345\n",
        "student_gpa = 3.9\n",
        "\n",
        "print(f\"{student_name}  {student_id_number} {student_gpa}\")"
      ],
      "metadata": {
        "id": "gq6QZ9Qiw3ur"
      },
      "id": "gq6QZ9Qiw3ur",
      "execution_count": null,
      "outputs": []
    },
    {
      "cell_type": "markdown",
      "id": "7cceefaf",
      "metadata": {
        "id": "7cceefaf"
      },
      "source": [
        "\n",
        "# Conclusion\n",
        "\n",
        "Reflect on what you've learned in this homework. What parts were easy for you? Which ones were challenging? Write a few sentences below.\n"
      ]
    },
    {
      "cell_type": "markdown",
      "source": [
        "### Answer\n",
        "\n",
        "\n",
        "This is not my first python class (not counting online classes, this is my 4), and I have moved on to harder projects. But since I have a tendency to overthink things, it is good to go back to the basics. The second exercise made me go back to my books/google to figure out why it was wrong, I knew it had something to do with a float and a string, but what could be the easies way to solve it?\n",
        "\n",
        "Just like martial arts or learning a new language, programming (for me) is like puzzling little things together, and just like when I started doing kung fu and learning English, I have to put together the little things, master the basics.\n",
        "\n",
        "Besides the binary formula I did not learn anything new this week, but I knew it was going to be like this, I also enjoyed stopping and thinking of other ways to solve a problem without the tools I learned before. I also have so many things that I need to relearn and practice."
      ],
      "metadata": {
        "id": "FTsi6UBZAv3r"
      },
      "id": "FTsi6UBZAv3r"
    }
  ],
  "metadata": {
    "colab": {
      "provenance": [],
      "include_colab_link": true
    },
    "language_info": {
      "name": "python"
    },
    "kernelspec": {
      "name": "python3",
      "display_name": "Python 3"
    }
  },
  "nbformat": 4,
  "nbformat_minor": 5
}