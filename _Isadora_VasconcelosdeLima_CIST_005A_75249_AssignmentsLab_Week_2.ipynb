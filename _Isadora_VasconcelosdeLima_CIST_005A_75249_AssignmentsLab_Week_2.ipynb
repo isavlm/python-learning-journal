{
  "nbformat": 4,
  "nbformat_minor": 0,
  "metadata": {
    "colab": {
      "provenance": [],
      "authorship_tag": "ABX9TyNpnR6zmJuzy5hQneoExqcN",
      "include_colab_link": true
    },
    "kernelspec": {
      "name": "python3",
      "display_name": "Python 3"
    },
    "language_info": {
      "name": "python"
    }
  },
  "cells": [
    {
      "cell_type": "markdown",
      "metadata": {
        "id": "view-in-github",
        "colab_type": "text"
      },
      "source": [
        "<a href=\"https://colab.research.google.com/github/isavlm/python-learning-journal/blob/Isadora%2FWeek_1/_Isadora_VasconcelosdeLima_CIST_005A_75249_AssignmentsLab_Week_2.ipynb\" target=\"_parent\"><img src=\"https://colab.research.google.com/assets/colab-badge.svg\" alt=\"Open In Colab\"/></a>"
      ]
    },
    {
      "cell_type": "markdown",
      "source": [
        "Task 1: Kilometer to Mile Conversion (1pt)\n",
        "Write a program that converts kilometers to miles.\n",
        "The program should prompt the user to enter a distance in kilometers (via filling in an appropriately named variable) and then display the equivalent distance in miles."
      ],
      "metadata": {
        "id": "ChXWPiUhZQPY"
      }
    },
    {
      "cell_type": "markdown",
      "source": [
        "Task 2: Celsius to Fahrenheit Conversion (2pts)\n",
        "Write a program that converts temperatures from Celsius to Fahrenheit.\n",
        "The program should prompt the user to enter a temperature in Celsius (again, via filling in an appropriately named variable) and then display the equivalent temperature in Fahrenheit."
      ],
      "metadata": {
        "id": "0FqRt76PZVeZ"
      }
    },
    {
      "cell_type": "markdown",
      "source": [
        "Task 3: Binary to Decimal Converter (2pts)\n",
        "Following the Binary to Decimal conversion formula we learned in class, convert `101101000` into decimal form and display it.\n",
        "Enter the entire formula into python and have it perform the computation."
      ],
      "metadata": {
        "id": "A7-ZAq0ZZWIt"
      }
    },
    {
      "cell_type": "code",
      "source": [
        "# Task 1 code.\n",
        "# Step 1. Identidy the problem. \"I need to convert Kilometers to Miles, and request an input from the user.\"\"\n",
        "# Step 2. Figure out what are the variables\n",
        "# Step 3. Print the result.\n",
        "\n",
        "\n",
        "print(\"Welcome to the Kilometers to Miles Converter\")\n",
        "kilometers = float(input(\"Please enter the Kilometers:  \"))\n",
        "miles = kilometers * float(0.621371) # 1km = 0.621371 miles\n",
        "print(\"Your conversion is: \" + str(miles) + \" miles\")\n",
        "\n",
        "\n",
        "\n",
        "\n",
        "\n",
        "\n",
        "\n"
      ],
      "metadata": {
        "colab": {
          "base_uri": "https://localhost:8080/"
        },
        "id": "gcL4m8yGZaZE",
        "outputId": "1ebe1200-c41a-42c6-f87c-d0409688c2f9"
      },
      "execution_count": null,
      "outputs": [
        {
          "output_type": "stream",
          "name": "stdout",
          "text": [
            "Welcome to the Kilometers to Miles Converter\n",
            "Please enter the Kilometers:  10\n",
            "Your conversion is: 6.21371 miles\n"
          ]
        }
      ]
    },
    {
      "cell_type": "code",
      "source": [
        "#Task 2 code.\n",
        "#Step 1. How do I calculate Celsius to Fahrenheit? TC/5 = Tf-32/9\n",
        "#Step 2. Figure out variables and constants\n",
        "#Step 3. Calculate and Print.\n",
        "\n",
        "print(\"Welcome to the Celsius to Fahrenheit Converter\")\n",
        "\n",
        "\n",
        "celsius = float(input(\"Please enter the temperature in Celsius: \"))\n",
        "fahrenheit = (celsius * 9/5) + 32\n",
        "print(f\"The equivalent temperature in Fahrenheit is: {fahrenheit}°F\")"
      ],
      "metadata": {
        "colab": {
          "base_uri": "https://localhost:8080/"
        },
        "id": "lXhEc75Lhe5s",
        "outputId": "9facc9b4-3d98-46c1-98bc-32d3699d7047"
      },
      "execution_count": null,
      "outputs": [
        {
          "output_type": "stream",
          "name": "stdout",
          "text": [
            "Welcome to the Celsius to Fahrenheit Converter\n",
            "Please enter the temperature in Celsius: 0\n",
            "The equivalent temperature in Fahrenheit is: 32.0°F\n"
          ]
        }
      ]
    },
    {
      "cell_type": "code",
      "source": [
        "#Task3\n",
        "\n",
        "# Step 1: Understand how to calculate Binary to Decimal.\n",
        "# Each binary digit is multiplied by 2 raised to its position (starting from the rightmost, which is position 0).\n",
        "# Then we sum these values to get the decimal equivalent.\n",
        "\n",
        "# Step 2: Get the binary number as input from the user\n",
        "binary_number = input(\"Please enter a binary number: \")\n",
        "\n",
        "# Step 3: Convert the binary number to decimal using Python's built-in int function with base 2.\n",
        "decimal_value = int(binary_number, 2)\n",
        "\n",
        "# Step 4: Print the result.\n",
        "print(f\"The decimal equivalent of {binary_number} is: {decimal_value}\")"
      ],
      "metadata": {
        "id": "bdhYcHH6ixHm",
        "colab": {
          "base_uri": "https://localhost:8080/"
        },
        "outputId": "8d0ca241-0eb0-4996-9f18-af7a83489e4e"
      },
      "execution_count": 2,
      "outputs": [
        {
          "output_type": "stream",
          "name": "stdout",
          "text": [
            "Please enter a binary number: 101101000\n",
            "The decimal equivalent of 101101000 is: 360\n"
          ]
        }
      ]
    },
    {
      "cell_type": "code",
      "source": [],
      "metadata": {
        "id": "copWPOYiQ7Tp"
      },
      "execution_count": null,
      "outputs": []
    }
  ]
}